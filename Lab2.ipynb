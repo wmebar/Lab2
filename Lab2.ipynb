{
 "cells": [
  {
   "cell_type": "code",
   "execution_count": null,
   "metadata": {},
   "outputs": [],
   "source": [
    "s = [0] * 3\n",
    "print(s)\n",
    "s[0] += 1\n",
    "print(s)\n",
    "\n",
    "s = [''] * 3\n",
    "print(s)\n",
    "s[0] += 'a'\n",
    "print(s)\n",
    "\n",
    "s = [[]] * 3\n",
    "print(s)\n",
    "s[0] += [1]\n",
    "print(s)"
   ]
  },
  {
   "cell_type": "code",
   "execution_count": null,
   "metadata": {},
   "outputs": [],
   "source": [
    "s = [0] * 3\n",
    "print(s)\n",
    "s.append(1)\n",
    "print(s)\n",
    "print(id(s))\n",
    "\n",
    "s = [''] * 3\n",
    "print(s)\n",
    "s.append('a')\n",
    "print(s)\n",
    "print(id(s))\n",
    "\n",
    "s = [[]] * 3\n",
    "print(s)\n",
    "s.append(1)\n",
    "print(s)\n",
    "id(s)"
   ]
  },
  {
   "cell_type": "code",
   "execution_count": null,
   "metadata": {},
   "outputs": [],
   "source": [
    "def gcd(a, b):\n",
    "    \"\"\"Compute the GCD of two positive integers.\"\"\"\n",
    "    # Recursive version\n",
    "    if b == 0:\n",
    "        return a\n",
    "    else:\n",
    "        return gcd(b, a%b)\n",
    "    #return a if not b else gcd(b, a % b)\n",
    "print(gcd(10, 25)) # => 5\n",
    "print(gcd(14, 15)) # => 1\n",
    "print(gcd(3, 9)) # => 3\n",
    "print(gcd(27, 18))\n",
    "print(gcd(72, 27))\n",
    "gcd(1, 1) # => 1\n",
    "  "
   ]
  },
  {
   "cell_type": "code",
   "execution_count": null,
   "metadata": {},
   "outputs": [],
   "source": [
    "def gcd(a, b):\n",
    "    \"\"\"Compute the GCD of two positive integers.\"\"\"\n",
    "    # No recursive version\n",
    "    while b:\n",
    "        a, b = b, a % b\n",
    "    return a\n",
    "print(gcd(10, 25)) # => 5\n",
    "print(gcd(14, 15)) # => 1\n",
    "print(gcd(3, 9)) # => 3\n",
    "print(gcd(27, 18))\n",
    "print(gcd(72, 27))\n",
    "gcd(1, 1) # => 1"
   ]
  },
  {
   "cell_type": "code",
   "execution_count": null,
   "metadata": {},
   "outputs": [],
   "source": [
    "def flip_dict(input_dict):\n",
    "    \"\"\"Reverse the keys and values of a dictionary.\"\"\"\n",
    "    output_dict= {}\n",
    "    for key in input_dict:\n",
    "        if input_dict[key] in output_dict:\n",
    "            output_dict[input_dict[key]]+=[key]\n",
    "        else:\n",
    "            output_dict[input_dict[key]]=[key]        \n",
    "    return output_dict\n",
    "print(flip_dict({\"one\": 1, \"two\": 2, \"three\": 3}))\n",
    "flip_dict({\"CA\": \"US\", \"NY\": \"US\", \"ON\": \"CA\"})\n"
   ]
  },
  {
   "cell_type": "code",
   "execution_count": null,
   "metadata": {},
   "outputs": [],
   "source": [
    "def flip_dict(input_dict):\n",
    "    \"\"\"Reverse the keys and values of a dictionary.\"\"\"\n",
    "    output_dict = {value: key for key, value in input_dict.items()}\n",
    "    #for key in input_dict:\n",
    "        #if input_dict[key] in output_dict:\n",
    "            #output_dict[input_dict[key]]+=[key]\n",
    "        #else: \n",
    "            #output_dict[input_dict[key]]=[key]        \n",
    "    return output_dict\n",
    "print(flip_dict({\"one\": 1, \"two\": 2, \"three\": 3}))\n",
    "flip_dict({\"CA\": \"US\", \"NY\": \"US\", \"ON\": \"CA\"})"
   ]
  },
  {
   "cell_type": "code",
   "execution_count": null,
   "metadata": {},
   "outputs": [],
   "source": [
    "[x for x in [1, 2, 3, 4]]# uma lista de 1 até 4"
   ]
  },
  {
   "cell_type": "code",
   "execution_count": null,
   "metadata": {},
   "outputs": [],
   "source": [
    "[n - 2 for n in range(10)] #[-2,-1, 0, 1, 2, 3, 4, 5, 6, 7]"
   ]
  },
  {
   "cell_type": "code",
   "execution_count": null,
   "metadata": {},
   "outputs": [],
   "source": [
    "[k % 10 for k in range(41) if k % 3 == 0] #[0, 3, 6, 9, 2, 5, 8, 1, 4, 7, 0, 3, 6, 9]"
   ]
  },
  {
   "cell_type": "code",
   "execution_count": null,
   "metadata": {},
   "outputs": [],
   "source": [
    "[s.lower() for s in ['PythOn', 'iS', 'cOoL'] if s[0] < s[-1]]"
   ]
  },
  {
   "cell_type": "code",
   "execution_count": null,
   "metadata": {},
   "outputs": [],
   "source": [
    "s='cOoL'\n",
    "s[0] < s[-1]"
   ]
  },
  {
   "cell_type": "code",
   "execution_count": null,
   "metadata": {},
   "outputs": [],
   "source": [
    "# Something is fishy here. Can you spot it?\n",
    "arr = [[3,2,1], ['a','b','c'], [('do',), ['re'], 'mi']]\n",
    "print([el.append(el[0] * 4) for el in arr])  # What is printed?\n",
    "print(arr)  # What is the content of `arr` at this point?\n",
    "\n",
    "print([letter for letter in \"pYthON\" if letter.isupper()])\n",
    "print({len(w) for w in [\"its\", \"the\", \"remix\", \"to\", \"ignition\"]})\n",
    "print([len(w) for w in [\"its\", \"the\", \"remix\", \"to\", \"ignition\"]])"
   ]
  },
  {
   "cell_type": "code",
   "execution_count": null,
   "metadata": {},
   "outputs": [],
   "source": [
    "nums = [0, 1, 2, 3]\n",
    "fruits = ['apple', 'orange', 'pear']\n",
    "people = [\"TA_sam\", \"student_poohbear\", \"TA_guido\", \"student_htiek\"]\n",
    "\n",
    "print([num*2+1 for num in nums])\n",
    "print([fruit[0].upper() for fruit in fruits])\n",
    "print([fruit_with_p for fruit_with_p in fruits if 'p' in fruit_with_p])\n",
    "print([ta_person[3:] for ta_person in people if 'TA' in ta_person])\n",
    "print([(fruit,len(fruit)) for fruit in fruits])\n",
    "print({(fruit,len(fruit)) for fruit in fruits})\n"
   ]
  },
  {
   "cell_type": "code",
   "execution_count": 125,
   "metadata": {},
   "outputs": [
    {
     "name": "stdout",
     "output_type": "stream",
     "text": [
      "[1, 3, 3, 1]\n",
      "[1, 5, 10, 10, 5, 1]\n",
      "[1, 1]\n"
     ]
    },
    {
     "data": {
      "text/plain": [
       "[1]"
      ]
     },
     "execution_count": 125,
     "metadata": {},
     "output_type": "execute_result"
    }
   ],
   "source": [
    "def generate_pascal_row(row):\n",
    "    \"\"\"Generate the next row of Pascal's triangle.\"\"\"\n",
    "    if row==[]:\n",
    "        return [1]\n",
    "    row1=row.copy()\n",
    "    row2=row.copy()\n",
    "    row1.insert(0,0)\n",
    "    row2.append(0) \n",
    "    return [it1+it2 for it1,it2 in zip(row1,row2)]\n",
    "print(generate_pascal_row([1, 2, 1]))  # => [1, 3, 3, 1]\n",
    "print(generate_pascal_row([1, 4, 6, 4, 1]))  # => [1, 5, 10, 10, 5, 1]\n",
    "print(generate_pascal_row([1]))  # => [1,1]\n",
    "generate_pascal_row([])  # => [1]"
   ]
  },
  {
   "cell_type": "code",
   "execution_count": 124,
   "metadata": {},
   "outputs": [
    {
     "name": "stdout",
     "output_type": "stream",
     "text": [
      "[1, 3, 3, 1]\n",
      "[1, 5, 10, 10, 5, 1]\n",
      "[1, 1]\n"
     ]
    },
    {
     "data": {
      "text/plain": [
       "[1]"
      ]
     },
     "execution_count": 124,
     "metadata": {},
     "output_type": "execute_result"
    }
   ],
   "source": [
    "def generate_pascal_row(row):\n",
    "    \"\"\"Generate the successive row in Pascal's triangle.\n",
    "    While there are many iterative approaches, we can zip together offsets of\n",
    "    the given row to generate pairs of elements, which we sum to form the final\n",
    "    data structure.\n",
    "    For example, if row = [1, 4, 6, 4, 1], then\n",
    "        [0] + row  # => [0, 1, 4, 6, 4, 1]\n",
    "        row + [0]  # => [1, 4, 6, 4, 1, 0]\n",
    "    Adding together corresponding entries with zip and a list comprehension gives\n",
    "                        [1, 5, 10, 10, 5, 1]\n",
    "    Just like we wanted!\n",
    "    \"\"\"\n",
    "    if not row: return [1]\n",
    "    return [left + right for left, right in zip([0] + row, row + [0])]\n",
    "print(generate_pascal_row([1, 2, 1]))  # => [1, 3, 3, 1]\n",
    "print(generate_pascal_row([1, 4, 6, 4, 1]))  # => [1, 5, 10, 10, 5, 1]\n",
    "print(generate_pascal_row([1]))  # => [1,1]\n",
    "generate_pascal_row([])  # => [1]"
   ]
  },
  {
   "cell_type": "code",
   "execution_count": null,
   "metadata": {},
   "outputs": [],
   "source": [
    "def print_pascal_triangle(n):\n",
    "    \"\"\"Print the first n rows of Pascal's triangle.\"\"\"\n",
    "    rows=[[1]]\n",
    "    rows_str=['1']\n",
    "    for i in range(n-1):\n",
    "        rows.append(generate_pascal_row(rows[i]))\n",
    "        row_str=''\n",
    "        for el in rows[-1]:\n",
    "            row_str+=str(el)+' '\n",
    "        rows_str.append(row_str)\n",
    "    base=len(row_str)    \n",
    "    for row in rows_str:\n",
    "        print(row.center(base))\n",
    "    pass\n",
    "                    \n",
    "    \n",
    "print_pascal_triangle(9)"
   ]
  },
  {
   "cell_type": "code",
   "execution_count": 5,
   "metadata": {},
   "outputs": [
    {
     "name": "stdout",
     "output_type": "stream",
     "text": [
      "234371\n"
     ]
    }
   ],
   "source": [
    "#If you downloaded words from the course website,\n",
    "# change me to the path to the downloaded file.\n",
    "DICTIONARY_FILE = '/home/wagner/Documentos/Data Science/Introdução a programação em Python/words'\n",
    "\n",
    "def load_english():\n",
    "    \"\"\"Load and return a collection of english words from a file.\"\"\"\n",
    "    with open(DICTIONARY_FILE, 'r') as f:\n",
    "        dict = f.read()    \n",
    "    words={line.strip().lower() for line in dict.split('\\n') if line}\n",
    "    return words\n",
    "english = load_english()\n",
    "print(len(english))"
   ]
  },
  {
   "cell_type": "code",
   "execution_count": 145,
   "metadata": {},
   "outputs": [
    {
     "name": "stdout",
     "output_type": "stream",
     "text": [
      "234371\n"
     ]
    }
   ],
   "source": [
    "def get_english_words(dictionary_path):\n",
    "    \"\"\"Returns a set of trimmed, capitalized English words from a path to a dictionary.\n",
    "    The dictionary is assumed to have one English word per line.\n",
    "    If dictionary_path can not be read or is formatted incorrectly, a default English word\n",
    "    set is returned containing some fruits.\n",
    "    Note that we keep the file open for as little time as possible, which is\n",
    "    generally a good practice. One downside of this implementation is that it\n",
    "    buffers all of the words in memory (first as a string, and later as a collection\n",
    "    of lines, but the word list is a known finite size (and that size isn't *too*\n",
    "    big), so this approach will work fine. Iterating through the lines in the file\n",
    "    with a for loop could mitigate this downside.\n",
    "    We then use a set comprehension to build an uppercased collection of all of\n",
    "    the words in the dictionary.\n",
    "    Note that we choose to represent the English words as a set, because we want fast\n",
    "    membership testing (using `in`) and also want to be able to iterate over all words.\n",
    "    \"\"\"\n",
    "    try:\n",
    "        with open(dictionary_path, 'r') as f:\n",
    "            content = f.read()\n",
    "        return {line.strip().lower() for line in content.split('\\n') if line}\n",
    "    except OSError:\n",
    "        return {'APPLE', 'BANANA', 'PEAR', 'ORANGE'}\n",
    "english = get_english_words(DICTIONARY_FILE)\n",
    "print(len(english))"
   ]
  },
  {
   "cell_type": "code",
   "execution_count": 6,
   "metadata": {},
   "outputs": [
    {
     "name": "stdout",
     "output_type": "stream",
     "text": [
      "True\n",
      "False\n",
      "True\n",
      "False\n",
      "True\n",
      "False\n",
      "False\n",
      "True\n"
     ]
    }
   ],
   "source": [
    "def is_triad_word(word, english):\n",
    "    \"\"\"Return whether a word is a triad word.\"\"\"\n",
    "    return word[::2] in english and word[1::2] in english\n",
    " \n",
    "    \n",
    "def is_triad_phrase(phrase, english):\n",
    "    \"\"\"Return whether a phrase is composed of only triad words.\"\"\"\n",
    "    return all([is_triad_word(word, english) for word in phrase.split()])\n",
    "   \n",
    "print(is_triad_phrase(\"learned theorem\",english)) # => True\n",
    "print(is_triad_phrase(\"studied theories\",english)) # => False\n",
    "print(is_triad_phrase(\"wooded agrarians\",english)) # => True\n",
    "print(is_triad_phrase(\"forrested farmers\",english)) # => False\n",
    "print(is_triad_phrase(\"schooled oriole\",english)) # => True\n",
    "print(is_triad_phrase(\"educated small bird\",english)) # => False\n",
    "print(is_triad_phrase(\"a\",english)) # => False\n",
    "print(is_triad_phrase(\"\",english)) # => False"
   ]
  },
  {
   "cell_type": "code",
   "execution_count": null,
   "metadata": {},
   "outputs": [],
   "source": []
  }
 ],
 "metadata": {
  "kernelspec": {
   "display_name": "Python 3",
   "language": "python",
   "name": "python3"
  },
  "language_info": {
   "codemirror_mode": {
    "name": "ipython",
    "version": 3
   },
   "file_extension": ".py",
   "mimetype": "text/x-python",
   "name": "python",
   "nbconvert_exporter": "python",
   "pygments_lexer": "ipython3",
   "version": "3.7.3"
  }
 },
 "nbformat": 4,
 "nbformat_minor": 2
}
